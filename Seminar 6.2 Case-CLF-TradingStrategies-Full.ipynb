{
 "cells": [
  {
   "cell_type": "markdown",
   "id": "3ee9a3df",
   "metadata": {
    "cell_style": "center"
   },
   "source": [
    "# Trading Strategies"
   ]
  },
  {
   "cell_type": "code",
   "execution_count": 4,
   "id": "bf106ba5",
   "metadata": {
    "ExecuteTime": {
     "end_time": "2023-10-28T15:36:27.002867Z",
     "start_time": "2023-10-28T15:36:26.980926Z"
    },
    "slideshow": {
     "slide_type": "notes"
    }
   },
   "outputs": [],
   "source": [
    "import warnings\n",
    "warnings.simplefilter(action='ignore', category=FutureWarning)"
   ]
  },
  {
   "cell_type": "code",
   "execution_count": 5,
   "id": "15940ba5",
   "metadata": {
    "ExecuteTime": {
     "end_time": "2023-10-28T15:36:42.537599Z",
     "start_time": "2023-10-28T15:36:27.014837Z"
    }
   },
   "outputs": [],
   "source": [
    "import numpy as np\n",
    "import pandas as pd\n",
    "import matplotlib.pyplot as plt\n",
    "from sklearn.preprocessing import StandardScaler\n",
    "from sklearn.model_selection import train_test_split"
   ]
  },
  {
   "cell_type": "code",
   "execution_count": 6,
   "id": "767ec4c7",
   "metadata": {
    "ExecuteTime": {
     "end_time": "2023-10-28T15:36:42.553373Z",
     "start_time": "2023-10-28T15:36:42.541404Z"
    }
   },
   "outputs": [],
   "source": [
    "pd.options.mode.chained_assignment = None\n",
    "# Don't show the waring when writing in a copy slice, not the original data."
   ]
  },
  {
   "cell_type": "markdown",
   "id": "e13af9f7",
   "metadata": {},
   "source": [
    "## Load data"
   ]
  },
  {
   "cell_type": "code",
   "execution_count": 7,
   "id": "bfc7b668",
   "metadata": {
    "ExecuteTime": {
     "end_time": "2023-10-28T15:36:43.084513Z",
     "start_time": "2023-10-28T15:36:42.563346Z"
    },
    "scrolled": true
   },
   "outputs": [
    {
     "data": {
      "text/html": [
       "<div>\n",
       "<style scoped>\n",
       "    .dataframe tbody tr th:only-of-type {\n",
       "        vertical-align: middle;\n",
       "    }\n",
       "\n",
       "    .dataframe tbody tr th {\n",
       "        vertical-align: top;\n",
       "    }\n",
       "\n",
       "    .dataframe thead th {\n",
       "        text-align: right;\n",
       "    }\n",
       "</style>\n",
       "<table border=\"1\" class=\"dataframe\">\n",
       "  <thead>\n",
       "    <tr style=\"text-align: right;\">\n",
       "      <th></th>\n",
       "      <th>Open</th>\n",
       "      <th>High</th>\n",
       "      <th>Low</th>\n",
       "      <th>Close</th>\n",
       "      <th>Adj Close</th>\n",
       "      <th>Volume</th>\n",
       "    </tr>\n",
       "  </thead>\n",
       "  <tbody>\n",
       "    <tr>\n",
       "      <th>0</th>\n",
       "      <td>0.936384</td>\n",
       "      <td>1.004464</td>\n",
       "      <td>0.907924</td>\n",
       "      <td>0.999442</td>\n",
       "      <td>0.850643</td>\n",
       "      <td>535796800</td>\n",
       "    </tr>\n",
       "    <tr>\n",
       "      <th>1</th>\n",
       "      <td>0.966518</td>\n",
       "      <td>0.987723</td>\n",
       "      <td>0.903460</td>\n",
       "      <td>0.915179</td>\n",
       "      <td>0.778926</td>\n",
       "      <td>512377600</td>\n",
       "    </tr>\n",
       "    <tr>\n",
       "      <th>2</th>\n",
       "      <td>0.926339</td>\n",
       "      <td>0.987165</td>\n",
       "      <td>0.919643</td>\n",
       "      <td>0.928571</td>\n",
       "      <td>0.790324</td>\n",
       "      <td>778321600</td>\n",
       "    </tr>\n",
       "    <tr>\n",
       "      <th>3</th>\n",
       "      <td>0.947545</td>\n",
       "      <td>0.955357</td>\n",
       "      <td>0.848214</td>\n",
       "      <td>0.848214</td>\n",
       "      <td>0.721930</td>\n",
       "      <td>767972800</td>\n",
       "    </tr>\n",
       "    <tr>\n",
       "      <th>4</th>\n",
       "      <td>0.861607</td>\n",
       "      <td>0.901786</td>\n",
       "      <td>0.852679</td>\n",
       "      <td>0.888393</td>\n",
       "      <td>0.756128</td>\n",
       "      <td>460734400</td>\n",
       "    </tr>\n",
       "    <tr>\n",
       "      <th>...</th>\n",
       "      <td>...</td>\n",
       "      <td>...</td>\n",
       "      <td>...</td>\n",
       "      <td>...</td>\n",
       "      <td>...</td>\n",
       "      <td>...</td>\n",
       "    </tr>\n",
       "    <tr>\n",
       "      <th>5782</th>\n",
       "      <td>130.919998</td>\n",
       "      <td>132.419998</td>\n",
       "      <td>129.639999</td>\n",
       "      <td>131.860001</td>\n",
       "      <td>131.658981</td>\n",
       "      <td>63814900</td>\n",
       "    </tr>\n",
       "    <tr>\n",
       "      <th>5783</th>\n",
       "      <td>131.380005</td>\n",
       "      <td>131.410004</td>\n",
       "      <td>128.720001</td>\n",
       "      <td>130.029999</td>\n",
       "      <td>129.831772</td>\n",
       "      <td>69007800</td>\n",
       "    </tr>\n",
       "    <tr>\n",
       "      <th>5784</th>\n",
       "      <td>129.669998</td>\n",
       "      <td>131.029999</td>\n",
       "      <td>125.870003</td>\n",
       "      <td>126.040001</td>\n",
       "      <td>125.847855</td>\n",
       "      <td>85438400</td>\n",
       "    </tr>\n",
       "    <tr>\n",
       "      <th>5785</th>\n",
       "      <td>127.989998</td>\n",
       "      <td>130.479996</td>\n",
       "      <td>127.730003</td>\n",
       "      <td>129.610001</td>\n",
       "      <td>129.412415</td>\n",
       "      <td>75703700</td>\n",
       "    </tr>\n",
       "    <tr>\n",
       "      <th>5786</th>\n",
       "      <td>128.410004</td>\n",
       "      <td>129.949997</td>\n",
       "      <td>127.430000</td>\n",
       "      <td>129.929993</td>\n",
       "      <td>129.731918</td>\n",
       "      <td>77034200</td>\n",
       "    </tr>\n",
       "  </tbody>\n",
       "</table>\n",
       "<p>5787 rows × 6 columns</p>\n",
       "</div>"
      ],
      "text/plain": [
       "            Open        High         Low       Close   Adj Close     Volume\n",
       "0       0.936384    1.004464    0.907924    0.999442    0.850643  535796800\n",
       "1       0.966518    0.987723    0.903460    0.915179    0.778926  512377600\n",
       "2       0.926339    0.987165    0.919643    0.928571    0.790324  778321600\n",
       "3       0.947545    0.955357    0.848214    0.848214    0.721930  767972800\n",
       "4       0.861607    0.901786    0.852679    0.888393    0.756128  460734400\n",
       "...          ...         ...         ...         ...         ...        ...\n",
       "5782  130.919998  132.419998  129.639999  131.860001  131.658981   63814900\n",
       "5783  131.380005  131.410004  128.720001  130.029999  129.831772   69007800\n",
       "5784  129.669998  131.029999  125.870003  126.040001  125.847855   85438400\n",
       "5785  127.989998  130.479996  127.730003  129.610001  129.412415   75703700\n",
       "5786  128.410004  129.949997  127.430000  129.929993  129.731918   77034200\n",
       "\n",
       "[5787 rows x 6 columns]"
      ]
     },
     "execution_count": 7,
     "metadata": {},
     "output_type": "execute_result"
    }
   ],
   "source": [
    "dataset = pd.read_csv('AAPL.csv') \n",
    "dataset"
   ]
  },
  {
   "cell_type": "markdown",
   "id": "e8e944a1",
   "metadata": {},
   "source": [
    "## Create features"
   ]
  },
  {
   "cell_type": "code",
   "execution_count": 8,
   "id": "29f6a63c",
   "metadata": {
    "ExecuteTime": {
     "end_time": "2023-10-28T15:36:43.443753Z",
     "start_time": "2023-10-28T15:36:43.091455Z"
    }
   },
   "outputs": [
    {
     "data": {
      "text/html": [
       "<div>\n",
       "<style scoped>\n",
       "    .dataframe tbody tr th:only-of-type {\n",
       "        vertical-align: middle;\n",
       "    }\n",
       "\n",
       "    .dataframe tbody tr th {\n",
       "        vertical-align: top;\n",
       "    }\n",
       "\n",
       "    .dataframe thead th {\n",
       "        text-align: right;\n",
       "    }\n",
       "</style>\n",
       "<table border=\"1\" class=\"dataframe\">\n",
       "  <thead>\n",
       "    <tr style=\"text-align: right;\">\n",
       "      <th></th>\n",
       "      <th>Open</th>\n",
       "      <th>High</th>\n",
       "      <th>Low</th>\n",
       "      <th>Close</th>\n",
       "      <th>H-L</th>\n",
       "      <th>O-C</th>\n",
       "      <th>3day MA</th>\n",
       "      <th>10day MA</th>\n",
       "      <th>30day MA</th>\n",
       "      <th>Std_dev</th>\n",
       "      <th>Price_Rise</th>\n",
       "    </tr>\n",
       "  </thead>\n",
       "  <tbody>\n",
       "    <tr>\n",
       "      <th>30</th>\n",
       "      <td>1.029018</td>\n",
       "      <td>1.070871</td>\n",
       "      <td>1.028460</td>\n",
       "      <td>1.062500</td>\n",
       "      <td>0.042411</td>\n",
       "      <td>0.033482</td>\n",
       "      <td>1.006138</td>\n",
       "      <td>0.973214</td>\n",
       "      <td>0.939639</td>\n",
       "      <td>0.033990</td>\n",
       "      <td>0</td>\n",
       "    </tr>\n",
       "    <tr>\n",
       "      <th>31</th>\n",
       "      <td>1.051339</td>\n",
       "      <td>1.054688</td>\n",
       "      <td>1.001116</td>\n",
       "      <td>1.018973</td>\n",
       "      <td>0.053572</td>\n",
       "      <td>-0.032366</td>\n",
       "      <td>1.022507</td>\n",
       "      <td>0.989955</td>\n",
       "      <td>0.941741</td>\n",
       "      <td>0.033357</td>\n",
       "      <td>1</td>\n",
       "    </tr>\n",
       "    <tr>\n",
       "      <th>32</th>\n",
       "      <td>1.028460</td>\n",
       "      <td>1.031250</td>\n",
       "      <td>1.010045</td>\n",
       "      <td>1.025670</td>\n",
       "      <td>0.021205</td>\n",
       "      <td>-0.002790</td>\n",
       "      <td>1.038504</td>\n",
       "      <td>1.003627</td>\n",
       "      <td>0.945201</td>\n",
       "      <td>0.033203</td>\n",
       "      <td>0</td>\n",
       "    </tr>\n",
       "    <tr>\n",
       "      <th>33</th>\n",
       "      <td>1.023438</td>\n",
       "      <td>1.030134</td>\n",
       "      <td>0.989955</td>\n",
       "      <td>0.993304</td>\n",
       "      <td>0.040179</td>\n",
       "      <td>-0.030134</td>\n",
       "      <td>1.035714</td>\n",
       "      <td>1.013951</td>\n",
       "      <td>0.948437</td>\n",
       "      <td>0.025057</td>\n",
       "      <td>1</td>\n",
       "    </tr>\n",
       "    <tr>\n",
       "      <th>34</th>\n",
       "      <td>0.983259</td>\n",
       "      <td>1.044085</td>\n",
       "      <td>0.952567</td>\n",
       "      <td>1.016183</td>\n",
       "      <td>0.091518</td>\n",
       "      <td>0.032924</td>\n",
       "      <td>1.012649</td>\n",
       "      <td>1.016853</td>\n",
       "      <td>0.953274</td>\n",
       "      <td>0.025057</td>\n",
       "      <td>1</td>\n",
       "    </tr>\n",
       "  </tbody>\n",
       "</table>\n",
       "</div>"
      ],
      "text/plain": [
       "        Open      High       Low     Close       H-L       O-C   3day MA  \\\n",
       "30  1.029018  1.070871  1.028460  1.062500  0.042411  0.033482  1.006138   \n",
       "31  1.051339  1.054688  1.001116  1.018973  0.053572 -0.032366  1.022507   \n",
       "32  1.028460  1.031250  1.010045  1.025670  0.021205 -0.002790  1.038504   \n",
       "33  1.023438  1.030134  0.989955  0.993304  0.040179 -0.030134  1.035714   \n",
       "34  0.983259  1.044085  0.952567  1.016183  0.091518  0.032924  1.012649   \n",
       "\n",
       "    10day MA  30day MA   Std_dev  Price_Rise  \n",
       "30  0.973214  0.939639  0.033990           0  \n",
       "31  0.989955  0.941741  0.033357           1  \n",
       "32  1.003627  0.945201  0.033203           0  \n",
       "33  1.013951  0.948437  0.025057           1  \n",
       "34  1.016853  0.953274  0.025057           1  "
      ]
     },
     "execution_count": 8,
     "metadata": {},
     "output_type": "execute_result"
    }
   ],
   "source": [
    "dataset = dataset.dropna() \n",
    "dataset = dataset[['Open', 'High', 'Low', 'Close']]\n",
    "\n",
    "dataset['H-L'] = dataset['High'] - dataset['Low'] \n",
    "dataset['O-C'] = dataset['Close'] - dataset['Open'] \n",
    "dataset['3day MA'] = dataset['Close'].shift(1).rolling(window = 3).mean() \n",
    "dataset['10day MA'] = dataset['Close'].shift(1).rolling(window = 10).mean() \n",
    "\n",
    "dataset['30day MA'] = dataset['Close'].shift(1).rolling(window = 30).mean() \n",
    "dataset['Std_dev']= dataset['Close'].rolling(5).std() \n",
    "\n",
    "dataset['Price_Rise'] = np.where(dataset['Close'].shift(-1) > dataset['Close'], 1, 0)\n",
    "dataset = dataset.dropna()\n",
    "dataset.head()"
   ]
  },
  {
   "cell_type": "markdown",
   "id": "7b51a73a",
   "metadata": {},
   "source": [
    "## EDA"
   ]
  },
  {
   "cell_type": "code",
   "execution_count": 9,
   "id": "f7ecbaed",
   "metadata": {
    "ExecuteTime": {
     "end_time": "2023-10-28T15:36:44.038033Z",
     "start_time": "2023-10-28T15:36:43.445754Z"
    }
   },
   "outputs": [
    {
     "data": {
      "image/png": "[encoded data removed]",
      "text/plain": [
       "<Figure size 640x480 with 1 Axes>"
      ]
     },
     "metadata": {},
     "output_type": "display_data"
    }
   ],
   "source": [
    "plt.figure()\n",
    "plt.plot(dataset['3day MA'])\n",
    "plt.show()"
   ]
  },
  {
   "cell_type": "code",
   "execution_count": 10,
   "id": "af5a43c3",
   "metadata": {
    "ExecuteTime": {
     "end_time": "2023-10-28T15:39:52.720169Z",
     "start_time": "2023-10-28T15:39:52.395816Z"
    }
   },
   "outputs": [
    {
     "data": {
      "text/plain": [
       "<AxesSubplot:xlabel='3day MA', ylabel='Density'>"
      ]
     },
     "execution_count": 10,
     "metadata": {},
     "output_type": "execute_result"
    },
    {
     "data": {
      "image/png": "[encoded data removed]",
      "text/plain": [
       "<Figure size 640x480 with 1 Axes>"
      ]
     },
     "metadata": {},
     "output_type": "display_data"
    }
   ],
   "source": [
    "import seaborn as sns\n",
    "sns.histplot(dataset,x=\"3day MA\", kde=True, stat=\"density\")"
   ]
  },
  {
   "cell_type": "markdown",
   "id": "8aef4a51",
   "metadata": {},
   "source": [
    "## Data preprocessing"
   ]
  },
  {
   "cell_type": "code",
   "execution_count": 11,
   "id": "8928f437",
   "metadata": {
    "ExecuteTime": {
     "end_time": "2023-10-28T15:36:44.053755Z",
     "start_time": "2023-10-28T15:36:44.040995Z"
    }
   },
   "outputs": [],
   "source": [
    "# ‘X’ stores the input features, the columns starting from the fifth column (or index 4) of the\n",
    "# dataset till the second last column. The last column will be stored in the dataframe y,\n",
    "# which is the value we want to predict, i.e. the price rise.\n",
    "\n",
    "X = dataset.iloc[:, 4:-1] \n",
    "y = dataset.iloc[:, -1]"
   ]
  },
  {
   "cell_type": "code",
   "execution_count": 24,
   "id": "0e9a5b36",
   "metadata": {
    "ExecuteTime": {
     "end_time": "2023-10-28T15:36:44.224309Z",
     "start_time": "2023-10-28T15:36:44.056752Z"
    }
   },
   "outputs": [
    {
     "data": {
      "text/html": [
       "<div>\n",
       "<style scoped>\n",
       "    .dataframe tbody tr th:only-of-type {\n",
       "        vertical-align: middle;\n",
       "    }\n",
       "\n",
       "    .dataframe tbody tr th {\n",
       "        vertical-align: top;\n",
       "    }\n",
       "\n",
       "    .dataframe thead th {\n",
       "        text-align: right;\n",
       "    }\n",
       "</style>\n",
       "<table border=\"1\" class=\"dataframe\">\n",
       "  <thead>\n",
       "    <tr style=\"text-align: right;\">\n",
       "      <th></th>\n",
       "      <th>H-L</th>\n",
       "      <th>O-C</th>\n",
       "      <th>3day MA</th>\n",
       "      <th>10day MA</th>\n",
       "      <th>30day MA</th>\n",
       "      <th>Std_dev</th>\n",
       "    </tr>\n",
       "  </thead>\n",
       "  <tbody>\n",
       "    <tr>\n",
       "      <th>30</th>\n",
       "      <td>0.042411</td>\n",
       "      <td>0.033482</td>\n",
       "      <td>1.006138</td>\n",
       "      <td>0.973214</td>\n",
       "      <td>0.939639</td>\n",
       "      <td>0.033990</td>\n",
       "    </tr>\n",
       "    <tr>\n",
       "      <th>31</th>\n",
       "      <td>0.053572</td>\n",
       "      <td>-0.032366</td>\n",
       "      <td>1.022507</td>\n",
       "      <td>0.989955</td>\n",
       "      <td>0.941741</td>\n",
       "      <td>0.033357</td>\n",
       "    </tr>\n",
       "    <tr>\n",
       "      <th>32</th>\n",
       "      <td>0.021205</td>\n",
       "      <td>-0.002790</td>\n",
       "      <td>1.038504</td>\n",
       "      <td>1.003627</td>\n",
       "      <td>0.945201</td>\n",
       "      <td>0.033203</td>\n",
       "    </tr>\n",
       "    <tr>\n",
       "      <th>33</th>\n",
       "      <td>0.040179</td>\n",
       "      <td>-0.030134</td>\n",
       "      <td>1.035714</td>\n",
       "      <td>1.013951</td>\n",
       "      <td>0.948437</td>\n",
       "      <td>0.025057</td>\n",
       "    </tr>\n",
       "    <tr>\n",
       "      <th>34</th>\n",
       "      <td>0.091518</td>\n",
       "      <td>0.032924</td>\n",
       "      <td>1.012649</td>\n",
       "      <td>1.016853</td>\n",
       "      <td>0.953274</td>\n",
       "      <td>0.025057</td>\n",
       "    </tr>\n",
       "    <tr>\n",
       "      <th>...</th>\n",
       "      <td>...</td>\n",
       "      <td>...</td>\n",
       "      <td>...</td>\n",
       "      <td>...</td>\n",
       "      <td>...</td>\n",
       "      <td>...</td>\n",
       "    </tr>\n",
       "    <tr>\n",
       "      <th>5782</th>\n",
       "      <td>2.779999</td>\n",
       "      <td>0.940002</td>\n",
       "      <td>133.326665</td>\n",
       "      <td>137.869000</td>\n",
       "      <td>144.147332</td>\n",
       "      <td>1.471145</td>\n",
       "    </tr>\n",
       "    <tr>\n",
       "      <th>5783</th>\n",
       "      <td>2.690002</td>\n",
       "      <td>-1.350006</td>\n",
       "      <td>133.179998</td>\n",
       "      <td>136.839000</td>\n",
       "      <td>143.646999</td>\n",
       "      <td>1.952339</td>\n",
       "    </tr>\n",
       "    <tr>\n",
       "      <th>5784</th>\n",
       "      <td>5.159996</td>\n",
       "      <td>-3.629997</td>\n",
       "      <td>131.373332</td>\n",
       "      <td>135.392999</td>\n",
       "      <td>142.991332</td>\n",
       "      <td>3.446848</td>\n",
       "    </tr>\n",
       "    <tr>\n",
       "      <th>5785</th>\n",
       "      <td>2.749992</td>\n",
       "      <td>1.620003</td>\n",
       "      <td>129.310000</td>\n",
       "      <td>133.449999</td>\n",
       "      <td>142.249999</td>\n",
       "      <td>2.462544</td>\n",
       "    </tr>\n",
       "    <tr>\n",
       "      <th>5786</th>\n",
       "      <td>2.519997</td>\n",
       "      <td>1.519989</td>\n",
       "      <td>128.560000</td>\n",
       "      <td>132.089999</td>\n",
       "      <td>141.568999</td>\n",
       "      <td>2.122434</td>\n",
       "    </tr>\n",
       "  </tbody>\n",
       "</table>\n",
       "<p>5757 rows × 6 columns</p>\n",
       "</div>"
      ],
      "text/plain": [
       "           H-L       O-C     3day MA    10day MA    30day MA   Std_dev\n",
       "30    0.042411  0.033482    1.006138    0.973214    0.939639  0.033990\n",
       "31    0.053572 -0.032366    1.022507    0.989955    0.941741  0.033357\n",
       "32    0.021205 -0.002790    1.038504    1.003627    0.945201  0.033203\n",
       "33    0.040179 -0.030134    1.035714    1.013951    0.948437  0.025057\n",
       "34    0.091518  0.032924    1.012649    1.016853    0.953274  0.025057\n",
       "...        ...       ...         ...         ...         ...       ...\n",
       "5782  2.779999  0.940002  133.326665  137.869000  144.147332  1.471145\n",
       "5783  2.690002 -1.350006  133.179998  136.839000  143.646999  1.952339\n",
       "5784  5.159996 -3.629997  131.373332  135.392999  142.991332  3.446848\n",
       "5785  2.749992  1.620003  129.310000  133.449999  142.249999  2.462544\n",
       "5786  2.519997  1.519989  128.560000  132.089999  141.568999  2.122434\n",
       "\n",
       "[5757 rows x 6 columns]"
      ]
     },
     "execution_count": 24,
     "metadata": {},
     "output_type": "execute_result"
    }
   ],
   "source": [
    "X"
   ]
  },
  {
   "cell_type": "code",
   "execution_count": 13,
   "id": "8c734c19",
   "metadata": {
    "ExecuteTime": {
     "end_time": "2023-10-28T15:36:44.333273Z",
     "start_time": "2023-10-28T15:36:44.230301Z"
    }
   },
   "outputs": [
    {
     "data": {
      "text/html": [
       "<div>\n",
       "<style scoped>\n",
       "    .dataframe tbody tr th:only-of-type {\n",
       "        vertical-align: middle;\n",
       "    }\n",
       "\n",
       "    .dataframe tbody tr th {\n",
       "        vertical-align: top;\n",
       "    }\n",
       "\n",
       "    .dataframe thead th {\n",
       "        text-align: right;\n",
       "    }\n",
       "</style>\n",
       "<table border=\"1\" class=\"dataframe\">\n",
       "  <thead>\n",
       "    <tr style=\"text-align: right;\">\n",
       "      <th></th>\n",
       "      <th>H-L</th>\n",
       "      <th>O-C</th>\n",
       "      <th>3day MA</th>\n",
       "      <th>10day MA</th>\n",
       "      <th>30day MA</th>\n",
       "      <th>Std_dev</th>\n",
       "    </tr>\n",
       "  </thead>\n",
       "  <tbody>\n",
       "    <tr>\n",
       "      <th>4635</th>\n",
       "      <td>0.540001</td>\n",
       "      <td>0.087498</td>\n",
       "      <td>47.948334</td>\n",
       "      <td>47.247500</td>\n",
       "      <td>45.629833</td>\n",
       "      <td>0.709724</td>\n",
       "    </tr>\n",
       "    <tr>\n",
       "      <th>4636</th>\n",
       "      <td>0.465000</td>\n",
       "      <td>-0.169998</td>\n",
       "      <td>48.260000</td>\n",
       "      <td>47.418000</td>\n",
       "      <td>45.888500</td>\n",
       "      <td>0.381283</td>\n",
       "    </tr>\n",
       "    <tr>\n",
       "      <th>4637</th>\n",
       "      <td>0.557499</td>\n",
       "      <td>0.132500</td>\n",
       "      <td>48.395833</td>\n",
       "      <td>47.545500</td>\n",
       "      <td>46.136917</td>\n",
       "      <td>0.256884</td>\n",
       "    </tr>\n",
       "    <tr>\n",
       "      <th>4638</th>\n",
       "      <td>0.439999</td>\n",
       "      <td>-0.030003</td>\n",
       "      <td>48.261667</td>\n",
       "      <td>47.634250</td>\n",
       "      <td>46.365917</td>\n",
       "      <td>0.299545</td>\n",
       "    </tr>\n",
       "    <tr>\n",
       "      <th>4639</th>\n",
       "      <td>0.365002</td>\n",
       "      <td>0.222500</td>\n",
       "      <td>48.032500</td>\n",
       "      <td>47.700500</td>\n",
       "      <td>46.606833</td>\n",
       "      <td>0.290711</td>\n",
       "    </tr>\n",
       "    <tr>\n",
       "      <th>...</th>\n",
       "      <td>...</td>\n",
       "      <td>...</td>\n",
       "      <td>...</td>\n",
       "      <td>...</td>\n",
       "      <td>...</td>\n",
       "      <td>...</td>\n",
       "    </tr>\n",
       "    <tr>\n",
       "      <th>5782</th>\n",
       "      <td>2.779999</td>\n",
       "      <td>0.940002</td>\n",
       "      <td>133.326665</td>\n",
       "      <td>137.869000</td>\n",
       "      <td>144.147332</td>\n",
       "      <td>1.471145</td>\n",
       "    </tr>\n",
       "    <tr>\n",
       "      <th>5783</th>\n",
       "      <td>2.690002</td>\n",
       "      <td>-1.350006</td>\n",
       "      <td>133.179998</td>\n",
       "      <td>136.839000</td>\n",
       "      <td>143.646999</td>\n",
       "      <td>1.952339</td>\n",
       "    </tr>\n",
       "    <tr>\n",
       "      <th>5784</th>\n",
       "      <td>5.159996</td>\n",
       "      <td>-3.629997</td>\n",
       "      <td>131.373332</td>\n",
       "      <td>135.392999</td>\n",
       "      <td>142.991332</td>\n",
       "      <td>3.446848</td>\n",
       "    </tr>\n",
       "    <tr>\n",
       "      <th>5785</th>\n",
       "      <td>2.749992</td>\n",
       "      <td>1.620003</td>\n",
       "      <td>129.310000</td>\n",
       "      <td>133.449999</td>\n",
       "      <td>142.249999</td>\n",
       "      <td>2.462544</td>\n",
       "    </tr>\n",
       "    <tr>\n",
       "      <th>5786</th>\n",
       "      <td>2.519997</td>\n",
       "      <td>1.519989</td>\n",
       "      <td>128.560000</td>\n",
       "      <td>132.089999</td>\n",
       "      <td>141.568999</td>\n",
       "      <td>2.122434</td>\n",
       "    </tr>\n",
       "  </tbody>\n",
       "</table>\n",
       "<p>1152 rows × 6 columns</p>\n",
       "</div>"
      ],
      "text/plain": [
       "           H-L       O-C     3day MA    10day MA    30day MA   Std_dev\n",
       "4635  0.540001  0.087498   47.948334   47.247500   45.629833  0.709724\n",
       "4636  0.465000 -0.169998   48.260000   47.418000   45.888500  0.381283\n",
       "4637  0.557499  0.132500   48.395833   47.545500   46.136917  0.256884\n",
       "4638  0.439999 -0.030003   48.261667   47.634250   46.365917  0.299545\n",
       "4639  0.365002  0.222500   48.032500   47.700500   46.606833  0.290711\n",
       "...        ...       ...         ...         ...         ...       ...\n",
       "5782  2.779999  0.940002  133.326665  137.869000  144.147332  1.471145\n",
       "5783  2.690002 -1.350006  133.179998  136.839000  143.646999  1.952339\n",
       "5784  5.159996 -3.629997  131.373332  135.392999  142.991332  3.446848\n",
       "5785  2.749992  1.620003  129.310000  133.449999  142.249999  2.462544\n",
       "5786  2.519997  1.519989  128.560000  132.089999  141.568999  2.122434\n",
       "\n",
       "[1152 rows x 6 columns]"
      ]
     },
     "execution_count": 13,
     "metadata": {},
     "output_type": "execute_result"
    }
   ],
   "source": [
    "X_train, X_test, Y_train, Y_test = train_test_split(X, y, test_size=0.2, shuffle=False)\n",
    "X_test"
   ]
  },
  {
   "cell_type": "code",
   "execution_count": 14,
   "id": "86969ff7",
   "metadata": {
    "ExecuteTime": {
     "end_time": "2023-10-28T15:36:44.535685Z",
     "start_time": "2023-10-28T15:36:44.336246Z"
    }
   },
   "outputs": [],
   "source": [
    "sc = StandardScaler()\n",
    "X_train = sc.fit_transform(X_train)\n",
    "X_test = sc.transform(X_test)"
   ]
  },
  {
   "cell_type": "markdown",
   "id": "e13e9838",
   "metadata": {},
   "source": [
    "## Fit models"
   ]
  },
  {
   "cell_type": "code",
   "execution_count": 15,
   "id": "d99ce749",
   "metadata": {
    "ExecuteTime": {
     "end_time": "2023-10-28T15:36:46.727447Z",
     "start_time": "2023-10-28T15:36:44.541387Z"
    }
   },
   "outputs": [
    {
     "data": {
      "text/plain": [
       "ExtraTreesClassifier(random_state=101)"
      ]
     },
     "execution_count": 15,
     "metadata": {},
     "output_type": "execute_result"
    }
   ],
   "source": [
    "from sklearn.ensemble import ExtraTreesClassifier\n",
    "classifier = ExtraTreesClassifier(random_state=101)\n",
    "classifier.fit(X_train, Y_train)"
   ]
  },
  {
   "cell_type": "code",
   "execution_count": 16,
   "id": "029c066d",
   "metadata": {
    "ExecuteTime": {
     "end_time": "2023-10-28T15:36:46.789282Z",
     "start_time": "2023-10-28T15:36:46.731440Z"
    }
   },
   "outputs": [
    {
     "name": "stdout",
     "output_type": "stream",
     "text": [
      "              precision    recall  f1-score   support\n",
      "\n",
      "           0       0.52      0.06      0.10       544\n",
      "           1       0.53      0.95      0.68       608\n",
      "\n",
      "    accuracy                           0.53      1152\n",
      "   macro avg       0.52      0.50      0.39      1152\n",
      "weighted avg       0.52      0.53      0.41      1152\n",
      "\n"
     ]
    }
   ],
   "source": [
    "from sklearn.metrics import classification_report\n",
    "Y_pred = classifier.predict(X_test)\n",
    "print (classification_report(Y_test, Y_pred))"
   ]
  },
  {
   "cell_type": "markdown",
   "id": "62a7d256",
   "metadata": {},
   "source": [
    "## Feature importance"
   ]
  },
  {
   "cell_type": "code",
   "execution_count": 17,
   "id": "b354fd66",
   "metadata": {
    "ExecuteTime": {
     "end_time": "2023-10-28T15:46:18.700869Z",
     "start_time": "2023-10-28T15:46:18.686902Z"
    }
   },
   "outputs": [],
   "source": [
    "feature_names=X.columns"
   ]
  },
  {
   "cell_type": "code",
   "execution_count": 18,
   "id": "7c83e29b",
   "metadata": {
    "ExecuteTime": {
     "end_time": "2023-10-28T15:47:01.231268Z",
     "start_time": "2023-10-28T15:47:01.006866Z"
    }
   },
   "outputs": [
    {
     "data": {
      "image/png": "[encoded data removed]",
      "text/plain": [
       "<Figure size 640x480 with 1 Axes>"
      ]
     },
     "metadata": {},
     "output_type": "display_data"
    }
   ],
   "source": [
    "importance = classifier.feature_importances_ \n",
    "indices = np.argsort(importance)\n",
    "range1 = range(len(importance[indices]))\n",
    "plt.figure()\n",
    "plt.title(\"ExtraTreesClassifier Feature Importance\")\n",
    "plt.barh(range1,importance[indices])\n",
    "plt.yticks(range1, feature_names[indices])\n",
    "plt.ylim([-1, len(range1)])\n",
    "plt.show()"
   ]
  },
  {
   "cell_type": "markdown",
   "id": "4c85abb1",
   "metadata": {},
   "source": [
    "## Trading strategies"
   ]
  },
  {
   "cell_type": "markdown",
   "id": "d009dac5",
   "metadata": {
    "ExecuteTime": {
     "end_time": "2023-03-02T01:02:31.029381Z",
     "start_time": "2023-03-02T01:02:30.993476Z"
    }
   },
   "source": [
    "Next, we create a new column in the dataframe dataset with the column header ‘Y_pred’\n",
    "and store NaN values in the column. We then store the values of Y_pred into this new\n",
    "column, starting from the rows of the test dataset. This is done by slicing the dataframe\n",
    "using the iloc method as shown in the code above. We then drop all the NaN values"
   ]
  },
  {
   "cell_type": "code",
   "execution_count": 19,
   "id": "2e5521bf",
   "metadata": {
    "ExecuteTime": {
     "end_time": "2023-10-28T15:36:46.851431Z",
     "start_time": "2023-10-28T15:36:46.792011Z"
    }
   },
   "outputs": [
    {
     "data": {
      "text/html": [
       "<div>\n",
       "<style scoped>\n",
       "    .dataframe tbody tr th:only-of-type {\n",
       "        vertical-align: middle;\n",
       "    }\n",
       "\n",
       "    .dataframe tbody tr th {\n",
       "        vertical-align: top;\n",
       "    }\n",
       "\n",
       "    .dataframe thead th {\n",
       "        text-align: right;\n",
       "    }\n",
       "</style>\n",
       "<table border=\"1\" class=\"dataframe\">\n",
       "  <thead>\n",
       "    <tr style=\"text-align: right;\">\n",
       "      <th></th>\n",
       "      <th>Open</th>\n",
       "      <th>High</th>\n",
       "      <th>Low</th>\n",
       "      <th>Close</th>\n",
       "      <th>H-L</th>\n",
       "      <th>O-C</th>\n",
       "      <th>3day MA</th>\n",
       "      <th>10day MA</th>\n",
       "      <th>30day MA</th>\n",
       "      <th>Std_dev</th>\n",
       "      <th>Price_Rise</th>\n",
       "      <th>Y_pred</th>\n",
       "    </tr>\n",
       "  </thead>\n",
       "  <tbody>\n",
       "    <tr>\n",
       "      <th>4635</th>\n",
       "      <td>48.407501</td>\n",
       "      <td>48.520000</td>\n",
       "      <td>47.980000</td>\n",
       "      <td>48.494999</td>\n",
       "      <td>0.540001</td>\n",
       "      <td>0.087498</td>\n",
       "      <td>47.948334</td>\n",
       "      <td>47.247500</td>\n",
       "      <td>45.629833</td>\n",
       "      <td>0.709724</td>\n",
       "      <td>0</td>\n",
       "      <td>1.0</td>\n",
       "    </tr>\n",
       "    <tr>\n",
       "      <th>4636</th>\n",
       "      <td>48.535000</td>\n",
       "      <td>48.549999</td>\n",
       "      <td>48.084999</td>\n",
       "      <td>48.365002</td>\n",
       "      <td>0.465000</td>\n",
       "      <td>-0.169998</td>\n",
       "      <td>48.260000</td>\n",
       "      <td>47.418000</td>\n",
       "      <td>45.888500</td>\n",
       "      <td>0.381283</td>\n",
       "      <td>0</td>\n",
       "      <td>1.0</td>\n",
       "    </tr>\n",
       "    <tr>\n",
       "      <th>4637</th>\n",
       "      <td>47.792500</td>\n",
       "      <td>48.000000</td>\n",
       "      <td>47.442501</td>\n",
       "      <td>47.924999</td>\n",
       "      <td>0.557499</td>\n",
       "      <td>0.132500</td>\n",
       "      <td>48.395833</td>\n",
       "      <td>47.545500</td>\n",
       "      <td>46.136917</td>\n",
       "      <td>0.256884</td>\n",
       "      <td>0</td>\n",
       "      <td>1.0</td>\n",
       "    </tr>\n",
       "    <tr>\n",
       "      <th>4638</th>\n",
       "      <td>47.837502</td>\n",
       "      <td>47.992500</td>\n",
       "      <td>47.552502</td>\n",
       "      <td>47.807499</td>\n",
       "      <td>0.439999</td>\n",
       "      <td>-0.030003</td>\n",
       "      <td>48.261667</td>\n",
       "      <td>47.634250</td>\n",
       "      <td>46.365917</td>\n",
       "      <td>0.299545</td>\n",
       "      <td>1</td>\n",
       "      <td>1.0</td>\n",
       "    </tr>\n",
       "    <tr>\n",
       "      <th>4639</th>\n",
       "      <td>47.847500</td>\n",
       "      <td>48.152500</td>\n",
       "      <td>47.787498</td>\n",
       "      <td>48.070000</td>\n",
       "      <td>0.365002</td>\n",
       "      <td>0.222500</td>\n",
       "      <td>48.032500</td>\n",
       "      <td>47.700500</td>\n",
       "      <td>46.606833</td>\n",
       "      <td>0.290711</td>\n",
       "      <td>0</td>\n",
       "      <td>1.0</td>\n",
       "    </tr>\n",
       "    <tr>\n",
       "      <th>...</th>\n",
       "      <td>...</td>\n",
       "      <td>...</td>\n",
       "      <td>...</td>\n",
       "      <td>...</td>\n",
       "      <td>...</td>\n",
       "      <td>...</td>\n",
       "      <td>...</td>\n",
       "      <td>...</td>\n",
       "      <td>...</td>\n",
       "      <td>...</td>\n",
       "      <td>...</td>\n",
       "      <td>...</td>\n",
       "    </tr>\n",
       "    <tr>\n",
       "      <th>5782</th>\n",
       "      <td>130.919998</td>\n",
       "      <td>132.419998</td>\n",
       "      <td>129.639999</td>\n",
       "      <td>131.860001</td>\n",
       "      <td>2.779999</td>\n",
       "      <td>0.940002</td>\n",
       "      <td>133.326665</td>\n",
       "      <td>137.869000</td>\n",
       "      <td>144.147332</td>\n",
       "      <td>1.471145</td>\n",
       "      <td>0</td>\n",
       "      <td>1.0</td>\n",
       "    </tr>\n",
       "    <tr>\n",
       "      <th>5783</th>\n",
       "      <td>131.380005</td>\n",
       "      <td>131.410004</td>\n",
       "      <td>128.720001</td>\n",
       "      <td>130.029999</td>\n",
       "      <td>2.690002</td>\n",
       "      <td>-1.350006</td>\n",
       "      <td>133.179998</td>\n",
       "      <td>136.839000</td>\n",
       "      <td>143.646999</td>\n",
       "      <td>1.952339</td>\n",
       "      <td>0</td>\n",
       "      <td>1.0</td>\n",
       "    </tr>\n",
       "    <tr>\n",
       "      <th>5784</th>\n",
       "      <td>129.669998</td>\n",
       "      <td>131.029999</td>\n",
       "      <td>125.870003</td>\n",
       "      <td>126.040001</td>\n",
       "      <td>5.159996</td>\n",
       "      <td>-3.629997</td>\n",
       "      <td>131.373332</td>\n",
       "      <td>135.392999</td>\n",
       "      <td>142.991332</td>\n",
       "      <td>3.446848</td>\n",
       "      <td>1</td>\n",
       "      <td>1.0</td>\n",
       "    </tr>\n",
       "    <tr>\n",
       "      <th>5785</th>\n",
       "      <td>127.989998</td>\n",
       "      <td>130.479996</td>\n",
       "      <td>127.730003</td>\n",
       "      <td>129.610001</td>\n",
       "      <td>2.749992</td>\n",
       "      <td>1.620003</td>\n",
       "      <td>129.310000</td>\n",
       "      <td>133.449999</td>\n",
       "      <td>142.249999</td>\n",
       "      <td>2.462544</td>\n",
       "      <td>1</td>\n",
       "      <td>1.0</td>\n",
       "    </tr>\n",
       "    <tr>\n",
       "      <th>5786</th>\n",
       "      <td>128.410004</td>\n",
       "      <td>129.949997</td>\n",
       "      <td>127.430000</td>\n",
       "      <td>129.929993</td>\n",
       "      <td>2.519997</td>\n",
       "      <td>1.519989</td>\n",
       "      <td>128.560000</td>\n",
       "      <td>132.089999</td>\n",
       "      <td>141.568999</td>\n",
       "      <td>2.122434</td>\n",
       "      <td>0</td>\n",
       "      <td>1.0</td>\n",
       "    </tr>\n",
       "  </tbody>\n",
       "</table>\n",
       "<p>1152 rows × 12 columns</p>\n",
       "</div>"
      ],
      "text/plain": [
       "            Open        High         Low       Close       H-L       O-C  \\\n",
       "4635   48.407501   48.520000   47.980000   48.494999  0.540001  0.087498   \n",
       "4636   48.535000   48.549999   48.084999   48.365002  0.465000 -0.169998   \n",
       "4637   47.792500   48.000000   47.442501   47.924999  0.557499  0.132500   \n",
       "4638   47.837502   47.992500   47.552502   47.807499  0.439999 -0.030003   \n",
       "4639   47.847500   48.152500   47.787498   48.070000  0.365002  0.222500   \n",
       "...          ...         ...         ...         ...       ...       ...   \n",
       "5782  130.919998  132.419998  129.639999  131.860001  2.779999  0.940002   \n",
       "5783  131.380005  131.410004  128.720001  130.029999  2.690002 -1.350006   \n",
       "5784  129.669998  131.029999  125.870003  126.040001  5.159996 -3.629997   \n",
       "5785  127.989998  130.479996  127.730003  129.610001  2.749992  1.620003   \n",
       "5786  128.410004  129.949997  127.430000  129.929993  2.519997  1.519989   \n",
       "\n",
       "         3day MA    10day MA    30day MA   Std_dev  Price_Rise  Y_pred  \n",
       "4635   47.948334   47.247500   45.629833  0.709724           0     1.0  \n",
       "4636   48.260000   47.418000   45.888500  0.381283           0     1.0  \n",
       "4637   48.395833   47.545500   46.136917  0.256884           0     1.0  \n",
       "4638   48.261667   47.634250   46.365917  0.299545           1     1.0  \n",
       "4639   48.032500   47.700500   46.606833  0.290711           0     1.0  \n",
       "...          ...         ...         ...       ...         ...     ...  \n",
       "5782  133.326665  137.869000  144.147332  1.471145           0     1.0  \n",
       "5783  133.179998  136.839000  143.646999  1.952339           0     1.0  \n",
       "5784  131.373332  135.392999  142.991332  3.446848           1     1.0  \n",
       "5785  129.310000  133.449999  142.249999  2.462544           1     1.0  \n",
       "5786  128.560000  132.089999  141.568999  2.122434           0     1.0  \n",
       "\n",
       "[1152 rows x 12 columns]"
      ]
     },
     "execution_count": 19,
     "metadata": {},
     "output_type": "execute_result"
    }
   ],
   "source": [
    "dataset['Y_pred'] = np.NaN\n",
    "dataset.iloc[(len(dataset) - len(Y_pred)):,-1] = Y_pred\n",
    "trade_dataset = dataset.dropna()\n",
    "trade_dataset"
   ]
  },
  {
   "cell_type": "code",
   "execution_count": null,
   "id": "139db522",
   "metadata": {},
   "outputs": [],
   "source": []
  },
  {
   "cell_type": "markdown",
   "id": "bdb0f122",
   "metadata": {},
   "source": [
    "Now that we have the predicted values of the stock movement. We can compute the\n",
    "returns of the strategy. We will be taking a long position when the predicted value of y is\n",
    "true and will take a short position when the predicted signal is False.\n",
    "\n",
    "We first compute the returns that the strategy will earn if a long position is taken at the\n",
    "end of today, and squared off at the end of the next day. We start by creating a new\n",
    "column named ‘Tomorrows Returns’ in the trade_dataset and store in it a value of 0. We\n",
    "use the decimal notation to indicate that floating point values will be stored in this new\n",
    "column. Next, we store in it the log returns of today, i.e. logarithm of the closing price of\n",
    "today divided by the closing price of yesterday. Next, we shift these values upwards by one\n",
    "element so that tomorrow’s returns are stored against the prices of today."
   ]
  },
  {
   "cell_type": "code",
   "execution_count": 20,
   "id": "e6c84ea4",
   "metadata": {
    "ExecuteTime": {
     "end_time": "2023-10-28T15:36:46.945181Z",
     "start_time": "2023-10-28T15:36:46.855421Z"
    }
   },
   "outputs": [],
   "source": [
    "trade_dataset['Tomorrows Returns'] = 0.\n",
    "trade_dataset['Tomorrows Returns'] = np.log(trade_dataset['Close']/trade_dataset['Close'].shift(1))\n",
    "trade_dataset['Tomorrows Returns'] = trade_dataset['Tomorrows Returns'].shift(-1)"
   ]
  },
  {
   "cell_type": "markdown",
   "id": "0ee25706",
   "metadata": {},
   "source": [
    "Next, we will compute the Strategy Returns. We create a new column under the header\n",
    "‘StrategyReturns’ and initialize it with a value of 0. to indicate storing floating point\n",
    "values. By using the np.where() function, we then store the value in the column\n",
    "‘Tomorrows Returns’ if the value in the ‘ypred’ column stores True (a long position), else\n",
    "we would store negative of the value in the column ‘Tomorrows Returns’ (a short\n",
    "position); into the ‘Strategy Returns’ column."
   ]
  },
  {
   "cell_type": "code",
   "execution_count": 21,
   "id": "e9024e7a",
   "metadata": {
    "ExecuteTime": {
     "end_time": "2023-10-28T15:36:47.037594Z",
     "start_time": "2023-10-28T15:36:46.949170Z"
    }
   },
   "outputs": [],
   "source": [
    "trade_dataset['Strategy Returns'] = 0.\n",
    "trade_dataset['Strategy Returns'] = np.where(trade_dataset['Y_pred'] == True, trade_dataset['Tomorrows Returns'], - trade_dataset['Tomorrows Returns'])"
   ]
  },
  {
   "cell_type": "markdown",
   "id": "2779fa07",
   "metadata": {},
   "source": [
    "We now compute the cumulative returns for both the market and the strategy. These\n",
    "values are computed using the cumsum() function. We will use the cumulative sum to plot\n",
    "the graph of market and strategy returns in the last step."
   ]
  },
  {
   "cell_type": "code",
   "execution_count": 22,
   "id": "1b302298",
   "metadata": {
    "ExecuteTime": {
     "end_time": "2023-10-28T15:36:47.130465Z",
     "start_time": "2023-10-28T15:36:47.040517Z"
    }
   },
   "outputs": [],
   "source": [
    "trade_dataset['Cumulative Market Returns'] = np.cumsum(trade_dataset['Tomorrows Returns'])\n",
    "trade_dataset['Cumulative Strategy Returns'] = np.cumsum(trade_dataset['Strategy Returns'])"
   ]
  },
  {
   "cell_type": "code",
   "execution_count": 23,
   "id": "92cf5c1f",
   "metadata": {
    "ExecuteTime": {
     "end_time": "2023-10-28T15:36:47.556851Z",
     "start_time": "2023-10-28T15:36:47.133596Z"
    }
   },
   "outputs": [
    {
     "data": {
      "image/png": "[encoded data removed]",
      "text/plain": [
       "<Figure size 1000x500 with 1 Axes>"
      ]
     },
     "metadata": {},
     "output_type": "display_data"
    }
   ],
   "source": [
    "import matplotlib.pyplot as plt\n",
    "plt.figure(figsize=(10,5))\n",
    "plt.plot(trade_dataset['Cumulative Market Returns'], color='r', label='Market Returns')\n",
    "plt.plot(trade_dataset['Cumulative Strategy Returns'], color='g', label='Strategy Returns')\n",
    "plt.legend()\n",
    "plt.show()"
   ]
  },
  {
   "cell_type": "code",
   "execution_count": 1,
   "id": "e4d55862",
   "metadata": {
    "slideshow": {
     "slide_type": "slide"
    }
   },
   "outputs": [
    {
     "ename": "SyntaxError",
     "evalue": "invalid syntax (861380924.py, line 1)",
     "output_type": "error",
     "traceback": [
      "\u001b[1;36m  File \u001b[1;32m\"C:\\Users\\Alexia Lukangu\\AppData\\Local\\Temp\\ipykernel_20108\\861380924.py\"\u001b[1;36m, line \u001b[1;32m1\u001b[0m\n\u001b[1;33m    sudo apt-get update\u001b[0m\n\u001b[1;37m         ^\u001b[0m\n\u001b[1;31mSyntaxError\u001b[0m\u001b[1;31m:\u001b[0m invalid syntax\n"
     ]
    }
   ],
   "source": [
    "sudo apt-get update\n",
    "sudo apt-get install chromium-browser\n"
   ]
  },
  {
   "cell_type": "code",
   "execution_count": null,
   "id": "ed243f0e",
   "metadata": {},
   "outputs": [],
   "source": []
  }
 ],
 "metadata": {
  "hide_input": false,
  "kernelspec": {
   "display_name": "Python 3 (ipykernel)",
   "language": "python",
   "name": "python3"
  },
  "language_info": {
   "codemirror_mode": {
    "name": "ipython",
    "version": 3
   },
   "file_extension": ".py",
   "mimetype": "text/x-python",
   "name": "python",
   "nbconvert_exporter": "python",
   "pygments_lexer": "ipython3",
   "version": "3.9.13"
  },
  "toc": {
   "base_numbering": 1,
   "nav_menu": {},
   "number_sections": true,
   "sideBar": true,
   "skip_h1_title": false,
   "title_cell": "Table of Contents",
   "title_sidebar": "Contents",
   "toc_cell": false,
   "toc_position": {
    "height": "445px",
    "left": "29px",
    "top": "111.125px",
    "width": "273.188px"
   },
   "toc_section_display": true,
   "toc_window_display": true
  },
  "varInspector": {
   "cols": {
    "lenName": 16,
    "lenType": 16,
    "lenVar": 40
   },
   "kernels_config": {
    "python": {
     "delete_cmd_postfix": "",
     "delete_cmd_prefix": "del ",
     "library": "var_list.py",
     "varRefreshCmd": "print(var_dic_list())"
    },
    "r": {
     "delete_cmd_postfix": ") ",
     "delete_cmd_prefix": "rm(",
     "library": "var_list.r",
     "varRefreshCmd": "cat(var_dic_list()) "
    }
   },
   "types_to_exclude": [
    "module",
    "function",
    "builtin_function_or_method",
    "instance",
    "_Feature"
   ],
   "window_display": false
  },
  "vscode": {
   "interpreter": {
    "hash": "49cb93f377a7abe7414b7b0f21fb3017538004a126cf690fb524202736b7fb92"
   }
  }
 },
 "nbformat": 4,
 "nbformat_minor": 5
}
